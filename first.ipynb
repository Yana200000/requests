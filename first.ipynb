{
 "cells": [
  {
   "cell_type": "code",
   "execution_count": 160,
   "metadata": {},
   "outputs": [
    {
     "name": "stdout",
     "output_type": "stream",
     "text": [
      "Самый умный супер герой - Thanos\n"
     ]
    }
   ],
   "source": [
    "import requests as rq\n",
    "import re\n",
    "from bs4 import BeautifulSoup\n",
    "import operator\n",
    "\n",
    "heroes_names = ['Hulk', 'Captain America', 'Thanos']\n",
    "\n",
    "def compare_heroes(heroes_list):\n",
    "    intell = []\n",
    "    for name in heroes_list:\n",
    "        resp = rq.get('https://superheroapi.com/api/2619421814940190/search/' + name)\n",
    "        response = resp.json()\n",
    "        intell.append(int(response[\"results\"][0][\"powerstats\"]['intelligence']))\n",
    "        \n",
    "    he_and_in = dict(zip(heroes_list, intell))\n",
    "    keyMax = max(he_and_in.items(), key = operator.itemgetter(1))[0]\n",
    "    return f'Самый умный супер герой - {keyMax}'\n",
    "\n",
    "            \n",
    "print(compare_heroes(heroes_names))\n",
    "    \n"
   ]
  }
 ],
 "metadata": {
  "kernelspec": {
   "display_name": "Python 3",
   "language": "python",
   "name": "python3"
  },
  "language_info": {
   "codemirror_mode": {
    "name": "ipython",
    "version": 3
   },
   "file_extension": ".py",
   "mimetype": "text/x-python",
   "name": "python",
   "nbconvert_exporter": "python",
   "pygments_lexer": "ipython3",
   "version": "3.8.5"
  }
 },
 "nbformat": 4,
 "nbformat_minor": 4
}
